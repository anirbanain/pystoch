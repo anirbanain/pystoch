{
 "cells": [
  {
   "cell_type": "code",
   "execution_count": 21,
   "metadata": {
    "collapsed": true
   },
   "outputs": [],
   "source": [
    "param_input = open(\"../input/param_all.txt\",\"r\")"
   ]
  },
  {
   "cell_type": "code",
   "execution_count": 22,
   "metadata": {},
   "outputs": [
    {
     "name": "stdout",
     "output_type": "stream",
     "text": [
      "nside 2\n",
      "ifo1 'H1'\n",
      "ifo2 'L1'\n",
      "GPStime_start 1126626073\n",
      "GPStime_end 1126712237\n",
      "segDuration 26\n",
      "fLow 20\n",
      "fHigh 1726\n",
      "deltaF 0.25\n",
      "\n"
     ]
    }
   ],
   "source": [
    "print param_input.read() "
   ]
  },
  {
   "cell_type": "code",
   "execution_count": 28,
   "metadata": {},
   "outputs": [
    {
     "name": "stdout",
     "output_type": "stream",
     "text": [
      "{'segDuration 26': 'segDuration 26', 'GPStime_end 1126712237': 'GPStime_end 1126712237', 'nside 2': 'nside 2', 'fHigh 1726': 'fHigh 1726', \"ifo1 'H1'\": \"ifo1 'H1'\", 'deltaF 0.25': 'deltaF 0.25', 'GPStime_start 1126626073': 'GPStime_start 1126626073', 'fLow 20': 'fLow 20', \"ifo2 'L1'\": \"ifo2 'L1'\"}\n"
     ]
    }
   ],
   "source": [
    "vars = dict()\n",
    "\n",
    "with open(\"../input/param_all.txt\") as f:\n",
    "    for line in f:\n",
    "        eq_index = line.find('=')\n",
    "        var_name = line[:eq_index].strip()\n",
    "        number = (line[eq_index + 1:].strip())\n",
    "        vars[var_name] = number\n",
    "\n",
    "print(vars)"
   ]
  },
  {
   "cell_type": "code",
   "execution_count": 30,
   "metadata": {},
   "outputs": [
    {
     "ename": "NameError",
     "evalue": "name 'ifo1' is not defined",
     "output_type": "error",
     "traceback": [
      "\u001b[0;31m---------------------------------------------------------------------------\u001b[0m",
      "\u001b[0;31mNameError\u001b[0m                                 Traceback (most recent call last)",
      "\u001b[0;32m<ipython-input-30-22a055e1bb2d>\u001b[0m in \u001b[0;36m<module>\u001b[0;34m()\u001b[0m\n\u001b[0;32m----> 1\u001b[0;31m \u001b[0mifo1\u001b[0m\u001b[0;34m\u001b[0m\u001b[0m\n\u001b[0m",
      "\u001b[0;31mNameError\u001b[0m: name 'ifo1' is not defined"
     ]
    }
   ],
   "source": [
    "ifo1"
   ]
  },
  {
   "cell_type": "code",
   "execution_count": null,
   "metadata": {
    "collapsed": true
   },
   "outputs": [],
   "source": []
  }
 ],
 "metadata": {
  "kernelspec": {
   "display_name": "Python 2",
   "language": "python",
   "name": "python2"
  },
  "language_info": {
   "codemirror_mode": {
    "name": "ipython",
    "version": 2
   },
   "file_extension": ".py",
   "mimetype": "text/x-python",
   "name": "python",
   "nbconvert_exporter": "python",
   "pygments_lexer": "ipython2",
   "version": "2.7.13"
  }
 },
 "nbformat": 4,
 "nbformat_minor": 2
}
